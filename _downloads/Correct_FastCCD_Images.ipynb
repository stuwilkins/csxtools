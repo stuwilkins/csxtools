{
 "cells": [
  {
   "cell_type": "markdown",
   "metadata": {},
   "source": [
    "# Example Notebook for Correcting and loading FastCCD Images\n",
    "\n",
    "This example reads data from the FastCCD and corrects and rotates the images. Included are some\n",
    "example of widgets to interact with the data"
   ]
  },
  {
   "cell_type": "markdown",
   "metadata": {},
   "source": [
    "## Getting Started\n",
    "\n",
    "Load the ``databroker`` moudle, ``csxtools`` and various other dependencies"
   ]
  },
  {
   "cell_type": "code",
   "execution_count": null,
   "metadata": {
    "collapsed": false
   },
   "outputs": [],
   "source": [
    "import numpy as np\n",
    "from databroker import DataBroker, get_table\n",
    "from csxtools.utils import get_fastccd_images, get_images_to_4D\n",
    "from csxtools.ipynb import image_stack_to_movie, show_image_stack\n",
    "%matplotlib inline\n",
    "from matplotlib import pyplot as plt"
   ]
  },
  {
   "cell_type": "markdown",
   "metadata": {},
   "source": [
    "Set the logger level to info to see logging output"
   ]
  },
  {
   "cell_type": "code",
   "execution_count": null,
   "metadata": {
    "collapsed": true
   },
   "outputs": [],
   "source": [
    "import logging\n",
    "logging.getLogger().setLevel(logging.INFO)"
   ]
  },
  {
   "cell_type": "markdown",
   "metadata": {},
   "source": [
    "## Get the data headers from the DataBroker!"
   ]
  },
  {
   "cell_type": "code",
   "execution_count": null,
   "metadata": {
    "collapsed": false
   },
   "outputs": [],
   "source": [
    "bgnd = DataBroker['ce5042b7-00ae-49ca-9b11-b10c5661aaaa'] #[52440]"
   ]
  },
  {
   "cell_type": "code",
   "execution_count": null,
   "metadata": {
    "collapsed": false
   },
   "outputs": [],
   "source": [
    "data = DataBroker['b2596f8e-d220-4aea-8a55-8ccb17cbdacc'] #[52436]"
   ]
  },
  {
   "cell_type": "markdown",
   "metadata": {},
   "source": [
    "## Correct the FastCCD Images\n",
    "\n",
    "Now correct the CCD images, using only a single background image. \n",
    "\n",
    "In the future this should be taken from the metadata associated with the data, or from the darkfield entry\n",
    "\n",
    "First lets just look at the background stack as a \"lightfield\""
   ]
  },
  {
   "cell_type": "code",
   "execution_count": null,
   "metadata": {
    "collapsed": false
   },
   "outputs": [],
   "source": [
    "images = get_fastccd_images(data, (bgnd, None, None), tag='fccd_image_lightfield')"
   ]
  },
  {
   "cell_type": "markdown",
   "metadata": {},
   "source": [
    "## Format of returned object\n",
    "\n",
    "The returned `images` object is a 4D stack of images of shape `(N, M, y, x)` where `N` is the number of events. This is - for example - the number of data points in a scan. `M` is the number of images collected at each point, while `y` and `x` are the size of the CCD chip.\n",
    "\n",
    "As the data was collected as a single `ct()`, there is only one event. Lets select that. "
   ]
  },
  {
   "cell_type": "code",
   "execution_count": null,
   "metadata": {
    "collapsed": false
   },
   "outputs": [],
   "source": [
    "stack = images[0]"
   ]
  },
  {
   "cell_type": "code",
   "execution_count": null,
   "metadata": {
    "collapsed": false
   },
   "outputs": [],
   "source": [
    "stack[0]"
   ]
  },
  {
   "cell_type": "markdown",
   "metadata": {},
   "source": [
    "We can use this as a PIMS object, or we could convert it to a image stack using the `get_images_to_4D()` function"
   ]
  },
  {
   "cell_type": "code",
   "execution_count": null,
   "metadata": {
    "collapsed": false
   },
   "outputs": [],
   "source": [
    "arr = get_images_to_4D(stack)\n",
    "arr.shape"
   ]
  },
  {
   "cell_type": "code",
   "execution_count": null,
   "metadata": {
    "collapsed": false
   },
   "outputs": [],
   "source": [
    "type(arr)"
   ]
  },
  {
   "cell_type": "code",
   "execution_count": null,
   "metadata": {
    "collapsed": false
   },
   "outputs": [],
   "source": [
    "arr[0] # The first image, corrected"
   ]
  },
  {
   "cell_type": "markdown",
   "metadata": {},
   "source": [
    "## Now lets do an interactive plotting widget!\n",
    "\n",
    "We can, however use the pims object in most functions to look at the data. There are a couple of nice interactive objects which can be used to look at image stacks."
   ]
  },
  {
   "cell_type": "code",
   "execution_count": null,
   "metadata": {
    "collapsed": false
   },
   "outputs": [],
   "source": [
    "show_image_stack(stack, (-100, 100))"
   ]
  },
  {
   "cell_type": "markdown",
   "metadata": {},
   "source": [
    "## And lets do a movie of the stack of images\n",
    "This produces an HTML5 movie which can be viewed in most browsers"
   ]
  },
  {
   "cell_type": "code",
   "execution_count": null,
   "metadata": {
    "collapsed": false
   },
   "outputs": [],
   "source": [
    "image_stack_to_movie(stack[20:120], figsize=(12, 10), vmin=-20, vmax=20)"
   ]
  },
  {
   "cell_type": "markdown",
   "metadata": {},
   "source": [
    "What version are we running?"
   ]
  },
  {
   "cell_type": "code",
   "execution_count": null,
   "metadata": {
    "collapsed": false
   },
   "outputs": [],
   "source": [
    "import csxtools\n",
    "csxtools.__version__"
   ]
  }
 ],
 "metadata": {
  "kernelspec": {
   "display_name": "xf23id1-srv2 - Analysis Conda Env",
   "language": "",
   "name": "srv2-analysis-kernel"
  },
  "language_info": {
   "codemirror_mode": {
    "name": "ipython",
    "version": 3
   },
   "file_extension": ".py",
   "mimetype": "text/x-python",
   "name": "python",
   "nbconvert_exporter": "python",
   "pygments_lexer": "ipython3",
   "version": "3.5.0"
  }
 },
 "nbformat": 4,
 "nbformat_minor": 0
}
